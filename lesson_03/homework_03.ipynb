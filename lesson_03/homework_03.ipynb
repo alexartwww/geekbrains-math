{
 "cells": [
  {
   "cell_type": "markdown",
   "id": "0bd20f5d",
   "metadata": {},
   "source": [
    "# Задания к уроку №3"
   ]
  },
  {
   "cell_type": "code",
   "execution_count": 1,
   "id": "ef37db3a",
   "metadata": {},
   "outputs": [],
   "source": [
    "import numpy as np\n",
    "import matplotlib.pyplot as plt"
   ]
  },
  {
   "cell_type": "markdown",
   "id": "1ead86e7",
   "metadata": {},
   "source": [
    "1. Пусть $x_n = n^{(−1)^n}$. Доказать, что последовательность $\\{x_n\\}$:\n",
    "    1. неограниченная;\n",
    "    2. не является бесконечно большой. "
   ]
  },
  {
   "cell_type": "code",
   "execution_count": 19,
   "id": "b17f7694",
   "metadata": {
    "scrolled": false
   },
   "outputs": [
    {
     "data": {
      "image/png": "[encoded data removed]",
      "text/plain": [
       "<Figure size 432x288 with 1 Axes>"
      ]
     },
     "metadata": {
      "needs_background": "light"
     },
     "output_type": "display_data"
    }
   ],
   "source": [
    "x = np.arange(0.0,10.0,1.0)\n",
    "y = x ** ((-1)**x)\n",
    "plt.scatter(x, y, s=1, color='red')\n",
    "plt.show()"
   ]
  },
  {
   "cell_type": "markdown",
   "id": "aa0974ae",
   "metadata": {},
   "source": [
    "Взглянем на график для значений от 0 до 10. На графике видно, что часть точек линейно растет, а часть стремиться к нулю. Формула это тоже показывает -\n",
    "для четных n\n",
    "\n",
    "$ x = n $\n",
    "\n",
    "для нечетных n\n",
    "\n",
    "$ x = \\frac{1}{n} $\n",
    "\n",
    "Видно, что последовательность не сходится - первая часть бесконечно растет. Это значит, что она неограничена.\n",
    "\n",
    "Найдем пределы\n",
    "\n",
    "$ \\lim_{n\\to\\infty}{n} = \\infty $\n",
    "\n",
    "$ \\lim_{n\\to\\infty}\\frac{1}{n} = 0 $\n",
    "\n",
    "Отсюда следует, что последовательность не является ни бесконечно малой ни бесконечно большой.\n",
    "\n",
    "Предел последовательности не определен\n",
    "\n",
    "ЧТД"
   ]
  },
  {
   "cell_type": "markdown",
   "id": "56c4a639",
   "metadata": {},
   "source": [
    "2. Доказать, что последовательность $\\{\\sin{n}\\}$ расходится."
   ]
  },
  {
   "cell_type": "code",
   "execution_count": 23,
   "id": "027f8b5d",
   "metadata": {},
   "outputs": [
    {
     "data": {
      "image/png": "[encoded data removed]",
      "text/plain": [
       "<Figure size 432x288 with 1 Axes>"
      ]
     },
     "metadata": {
      "needs_background": "light"
     },
     "output_type": "display_data"
    }
   ],
   "source": [
    "x = np.arange(0.0,100.0,1.0)\n",
    "y = np.sin(x)\n",
    "plt.scatter(x, y, s=1, color='red')\n",
    "plt.show()"
   ]
  },
  {
   "cell_type": "markdown",
   "id": "0a6eeb76",
   "metadata": {},
   "source": [
    "Последовательность не имеет конечного предела, поэтому она расходится\n",
    "\n",
    "ЧТД"
   ]
  },
  {
   "cell_type": "markdown",
   "id": "09e2455f",
   "metadata": {},
   "source": [
    "3. Найти пределы:\n",
    "    1. $ \\lim_{n\\to\\infty}\\frac{10n}{n^2+1} $\n",
    "    2. $ \\lim_{n\\to\\infty}\\frac{n^2-n}{n-\\sqrt{n}} $\n",
    "    3. $ \\lim_{n\\to\\infty}\\frac{5\\cdot3^n}{3^n-2} $"
   ]
  },
  {
   "cell_type": "markdown",
   "id": "b8e0a602",
   "metadata": {},
   "source": [
    "A.\n",
    "\n",
    "$ \\lim_{n\\to\\infty}\\frac{10n}{n^2+1} $\n",
    "\n",
    "$ 10\\lim_{n\\to\\infty}\\frac{n}{n^2+1} $\n",
    "\n",
    "$ 10\\lim_{n\\to\\infty}\\frac{1}{n+\\frac{1}{n}} = 0 $"
   ]
  },
  {
   "cell_type": "markdown",
   "id": "34163fc1",
   "metadata": {},
   "source": [
    "B.\n",
    "\n",
    "$ \\lim_{n\\to\\infty}\\frac{n^2-n}{n-\\sqrt{n}} $\n",
    "\n",
    "$ \\lim_{n\\to\\infty}\\frac{n(n-1)}{\\sqrt{n}(\\sqrt{n}-1)} $\n",
    "\n",
    "$ \\lim_{n\\to\\infty}\\frac{n(\\sqrt{n}-1)(\\sqrt{n}+1)}{\\sqrt{n}(\\sqrt{n}-1)} $\n",
    "\n",
    "$ \\lim_{n\\to\\infty}\\sqrt{n}(\\sqrt{n}+1) = \\infty $\n"
   ]
  },
  {
   "cell_type": "markdown",
   "id": "cfa1904d",
   "metadata": {},
   "source": [
    "C.\n",
    "\n",
    "$ \\lim_{n\\to\\infty}\\frac{5\\cdot3^n}{3^n-2} $\n",
    "\n",
    "$ 5\\cdot\\lim_{n\\to\\infty}\\frac{3^n}{3^n-2} $\n",
    "\n",
    "$ 5\\cdot\\lim_{n\\to\\infty}\\frac{1}{1-\\frac{1}{3^n}} = 5$\n"
   ]
  },
  {
   "cell_type": "markdown",
   "id": "915539e8",
   "metadata": {},
   "source": [
    "4. Найти предел $ \\lim_{n\\to\\infty}(\\sqrt{n^2+n}-n) $"
   ]
  },
  {
   "cell_type": "markdown",
   "id": "a8ed1ce6",
   "metadata": {},
   "source": [
    "$ \\lim_{n\\to\\infty}(\\sqrt{n^2+n}-n) $\n",
    "\n",
    "$ \\lim_{n\\to\\infty}\\frac{(\\sqrt{n^2+n}-n)(\\sqrt{n^2+n}+n)}{\\sqrt{n^2+n}+n} $\n",
    "\n",
    "$ \\lim_{n\\to\\infty}\\frac{n^2+n-n^2}{\\sqrt{n^2+n}+n} $\n",
    "\n",
    "$ \\lim_{n\\to\\infty}\\frac{n}{\\sqrt{n^2+n}+n} $\n",
    "\n",
    "$ \\lim_{n\\to\\infty}\\frac{1}{\\frac{\\sqrt{n^2+n}}{n}+1} $\n",
    "\n",
    "$ \\lim_{n\\to\\infty}\\frac{1}{\\frac{\\sqrt{n(n+1)}}{n}+1} $\n",
    "\n",
    "$ \\lim_{n\\to\\infty}\\frac{1}{\\frac{\\sqrt{n}\\sqrt{(n+1)}}{\\sqrt{n}\\sqrt{n}}+1} $\n",
    "\n",
    "$ \\lim_{n\\to\\infty}\\frac{1}{\\frac{\\sqrt{n}\\sqrt{(n+1)}}{\\sqrt{n}\\sqrt{n}}+1} $\n",
    "\n",
    "$ \\lim_{n\\to\\infty}\\frac{1}{\\sqrt{\\frac{n+1}{n}}+1} $\n",
    "\n",
    "$ \\lim_{n\\to\\infty}\\frac{1}{\\sqrt{\\frac{n}{n}+\\frac{1}{n}}+1} = \\frac{1}{2}$\n",
    "\n"
   ]
  },
  {
   "cell_type": "markdown",
   "id": "742ced2f",
   "metadata": {},
   "source": [
    "5. Вычислить $ \\lim_{n\\to\\infty}\\frac{\\sqrt{n}\\cos{n}}{n+1} $"
   ]
  },
  {
   "cell_type": "markdown",
   "id": "f8a92160",
   "metadata": {},
   "source": [
    "$ \\lim_{n\\to\\infty}\\frac{\\sqrt{n}\\cos{n}}{n+1} $\n",
    "\n",
    "$ \\lim_{n\\to\\infty}\\frac{\\cos{n}}{\\frac{n+1}{\\sqrt{n}}} $\n",
    "\n",
    "$ \\lim_{n\\to\\infty}\\frac{\\cos{n}}{\\sqrt{n}+\\frac{1}{\\sqrt{n}}} = 0 $\n",
    "\n"
   ]
  }
 ],
 "metadata": {
  "kernelspec": {
   "display_name": "Python 3",
   "language": "python",
   "name": "python3"
  },
  "language_info": {
   "codemirror_mode": {
    "name": "ipython",
    "version": 3
   },
   "file_extension": ".py",
   "mimetype": "text/x-python",
   "name": "python",
   "nbconvert_exporter": "python",
   "pygments_lexer": "ipython3",
   "version": "3.8.8"
  }
 },
 "nbformat": 4,
 "nbformat_minor": 5
}
