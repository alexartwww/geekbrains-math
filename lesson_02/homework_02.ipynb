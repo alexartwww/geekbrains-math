{
 "cells": [
  {
   "cell_type": "markdown",
   "id": "0bd20f5d",
   "metadata": {},
   "source": [
    "# Практическое задание к лекции No2"
   ]
  },
  {
   "cell_type": "markdown",
   "id": "1ead86e7",
   "metadata": {},
   "source": [
    "1. Представьте в виде несократимой рациональной дроби:\n",
    "\n",
    "    1. 0.(216);\n",
    "    2. 1.0(01). "
   ]
  },
  {
   "cell_type": "markdown",
   "id": "91ead85e",
   "metadata": {},
   "source": [
    "A\n",
    "\n",
    "$ a = 0.(216) $\n",
    "\n",
    "$ 1000a = 216.(216) $\n",
    "\n",
    "$ 1000a = 216 + a $\n",
    "\n",
    "$ 999a = 216 $\n",
    "\n",
    "$ a = \\frac{216}{999} $"
   ]
  },
  {
   "cell_type": "markdown",
   "id": "7556f2a3",
   "metadata": {},
   "source": [
    "B\n",
    "\n",
    "$ a = 1.0(01) $\n",
    "\n",
    "$ 10a = 10.(01) $\n",
    "\n",
    "$ b = 0.(01) $\n",
    "\n",
    "$ 100b = 1.(01) $\n",
    "\n",
    "$ 100b = 1 + b $\n",
    "\n",
    "$ b = \\frac{1}{99} $\n",
    "\n",
    "$ 10a = 10 + \\frac{1}{99} $\n",
    "\n",
    "$ \\frac{990a}{99} = \\frac{990 + 1}{99} $\n",
    "\n",
    "$ a = \\frac{991}{990} $\n"
   ]
  },
  {
   "cell_type": "markdown",
   "id": "56c4a639",
   "metadata": {},
   "source": [
    "2. Проверьте любым способом, являются ли данные логические формулы тавтологией:\n",
    "\n",
    "    1. $ (A \\vee B) \\rightarrow (B \\vee \\overline{A}) $\n",
    "    2. $ A \\rightarrow (A \\vee (\\overline{B} \\wedge A)) $"
   ]
  },
  {
   "cell_type": "markdown",
   "id": "8e73c835",
   "metadata": {},
   "source": [
    "![Мой способ](./logic.jpg \"Мой способ\")"
   ]
  },
  {
   "cell_type": "markdown",
   "id": "09e2455f",
   "metadata": {},
   "source": [
    "3. Сформулируйте словесно высказывания:\n",
    "    1. $ (\\overline{A} \\vee B) \\rightarrow \\overline{C} $\n",
    "    2. $ C \\rightarrow (A \\vee \\overline{B}) $\n",
    "\n",
    "  где А: сегодня светит солнце; В: сегодня сыро; С: я поеду на дачу. "
   ]
  },
  {
   "cell_type": "markdown",
   "id": "9c9131cb",
   "metadata": {},
   "source": [
    "A. Если сегодня не светит солнце и сегодня сыро, то я не поеду на дачу"
   ]
  },
  {
   "cell_type": "markdown",
   "id": "2b5309ae",
   "metadata": {},
   "source": [
    "B. Если я поеду на дачу, то сегодня светит солнце и сегодня не сыро"
   ]
  }
 ],
 "metadata": {
  "kernelspec": {
   "display_name": "Python 3",
   "language": "python",
   "name": "python3"
  },
  "language_info": {
   "codemirror_mode": {
    "name": "ipython",
    "version": 3
   },
   "file_extension": ".py",
   "mimetype": "text/x-python",
   "name": "python",
   "nbconvert_exporter": "python",
   "pygments_lexer": "ipython3",
   "version": "3.8.8"
  }
 },
 "nbformat": 4,
 "nbformat_minor": 5
}
